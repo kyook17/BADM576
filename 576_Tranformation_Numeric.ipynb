{
  "cells": [
    {
      "cell_type": "markdown",
      "metadata": {
        "id": "view-in-github",
        "colab_type": "text"
      },
      "source": [
        "<a href=\"https://colab.research.google.com/github/kyook17/UIUC_BADM/blob/main/576_Tranformation_Numeric.ipynb\" target=\"_parent\"><img src=\"https://colab.research.google.com/assets/colab-badge.svg\" alt=\"Open In Colab\"/></a>"
      ]
    },
    {
      "cell_type": "markdown",
      "metadata": {
        "id": "DIwpSZRUWCOM"
      },
      "source": [
        "There are many mathematical transformations that one can perform to change the distribution of a numeric column.\n",
        "\n",
        "Some of the most common ones are:\n",
        "\n",
        "**Function Transformers**: use a particular function to transform the data to the normal distribution\n",
        "* Log (performs so well on the right-skewed data; only defined for positive numbers)\n",
        "* Reciprocal (not defined for zero)\n",
        "* Square ()\n",
        "* Square root (weaker than log transformation; works better for heteroscadasticity (non-constant variance); only defined for posiitve numbers)\n",
        "\n",
        "**Power Transformers**:\n",
        "* Box-Cox (a transformation of non-normal dependent variables into a normal shape)\n",
        "* yeo-Johnson (can handle negative values)\n",
        "\n",
        "\n",
        "\n",
        "https://towardsdatascience.com/types-of-transformations-for-better-normal-distribution-61c22668d3b9\n",
        "\n",
        "https://medium.com/@sunils0506/types-of-transformations-in-machine-learning-5e397a6c9ab4\n",
        "\n",
        "https://www.geeksforgeeks.org/feature-transformation-techniques-in-machine-learning/\n"
      ]
    },
    {
      "cell_type": "code",
      "execution_count": null,
      "metadata": {
        "id": "_x8-uxNFWCON"
      },
      "outputs": [],
      "source": [
        "from sklearn.preprocessing import FunctionTransformer\n",
        "\n",
        "import numpy as np"
      ]
    },
    {
      "cell_type": "code",
      "execution_count": null,
      "metadata": {
        "id": "dIhM7oyOWCON"
      },
      "outputs": [],
      "source": [
        "# Function Transformers use functions\n",
        "\n",
        "transformer = FunctionTransformer(np.log, validate=True) # Log\n",
        "\n",
        "transformer = FunctionTransformer(lambda x: 1/x, validate=True)  # recirpocal\n",
        "\n",
        "transformer = FunctionTransformer(lambda x: x**(1/2), validate=True) # Square root\n",
        "\n",
        "transformer = FunctionTransformer(lambda x: x**(1/1.2), validate=True) # exponential"
      ]
    },
    {
      "cell_type": "code",
      "execution_count": null,
      "metadata": {
        "id": "a5aA4sXpWCOO"
      },
      "outputs": [],
      "source": [
        "from sklearn.preprocessing import PowerTransformer"
      ]
    },
    {
      "cell_type": "code",
      "execution_count": null,
      "metadata": {
        "id": "ZkFP5xH6WCOO"
      },
      "outputs": [],
      "source": [
        "# Power Transformers use method\n",
        "\n",
        "transformer = PowerTransformer(method='box-cox', standardize=False) # Boxcox\n",
        "\n",
        "transformer = PowerTransformer(method='yeo-johnson', standardize=False) #  Yeo-Johnson"
      ]
    },
    {
      "cell_type": "markdown",
      "metadata": {
        "id": "8GTl7lFbWCOO"
      },
      "source": [
        "Why do we need these transformers?\n",
        "\n",
        "Why not simply use functions?\n",
        "\n",
        "We use them because they provide convinient `fit` and `transform` methods.  "
      ]
    },
    {
      "cell_type": "code",
      "source": [],
      "metadata": {
        "id": "PkQM9YCmWTtD"
      },
      "execution_count": null,
      "outputs": []
    }
  ],
  "metadata": {
    "kernelspec": {
      "display_name": "Python 3",
      "language": "python",
      "name": "python3"
    },
    "language_info": {
      "codemirror_mode": {
        "name": "ipython",
        "version": 3
      },
      "file_extension": ".py",
      "mimetype": "text/x-python",
      "name": "python",
      "nbconvert_exporter": "python",
      "pygments_lexer": "ipython3",
      "version": "3.10.6"
    },
    "orig_nbformat": 4,
    "vscode": {
      "interpreter": {
        "hash": "94cb513ef0df7872a14d02e37d2ec8cda9c322e144e012a5867ea829d993f590"
      }
    },
    "colab": {
      "provenance": [],
      "include_colab_link": true
    }
  },
  "nbformat": 4,
  "nbformat_minor": 0
}