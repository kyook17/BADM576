{
  "cells": [
    {
      "cell_type": "markdown",
      "metadata": {
        "id": "view-in-github",
        "colab_type": "text"
      },
      "source": [
        "<a href=\"https://colab.research.google.com/github/kyook17/BADM576/blob/main/Handling_Missing_Values_Outliers_Scaling.ipynb\" target=\"_parent\"><img src=\"https://colab.research.google.com/assets/colab-badge.svg\" alt=\"Open In Colab\"/></a>"
      ]
    },
    {
      "cell_type": "markdown",
      "metadata": {
        "id": "QQyXAfXSdmY1"
      },
      "source": [
        "# **Missing Values**"
      ]
    },
    {
      "cell_type": "markdown",
      "metadata": {
        "id": "Be_0X3_QdmY3"
      },
      "source": [
        "### **Why are Missing Values Problematic?**\n",
        "\n",
        "\n",
        "Missing values can pose significant challenges both from an analysis and coding perspective.\n",
        "\n",
        "They can skew statistical measures and often lead to errors as many machine learning models or functions cannot handle missing values (NAs)."
      ]
    },
    {
      "cell_type": "markdown",
      "metadata": {
        "id": "9ABuVUDsdmY4"
      },
      "source": [
        "### **How are Missing Values Represented in Pandas DataFrame?**\n",
        "\n",
        "In a Pandas DataFrame, missing values are usually represented as NaN (Not a Number). Let's see how we can work with missing values in Pandas."
      ]
    },
    {
      "cell_type": "markdown",
      "metadata": {
        "id": "gJoEWrcpdmY5"
      },
      "source": [
        "### **Identifying Missing Values**\n",
        "\n",
        "Pandas provides the isnull() method to check for missing values in a DataFrame.\n",
        "\n",
        "Let's create a sample DataFrame with some missing values and use isnull():\n",
        "\n",
        "\n",
        "\n"
      ]
    },
    {
      "cell_type": "code",
      "execution_count": null,
      "metadata": {
        "id": "odUTeDYpdmY5",
        "outputId": "903743f1-4fbd-49c2-bf86-3a5d14bf1cbb"
      },
      "outputs": [
        {
          "name": "stdout",
          "output_type": "stream",
          "text": [
            "Actual DataFrame:\n",
            "     A    B  C\n",
            "0  1.0  5.0  7\n",
            "1  2.0  NaN  8\n",
            "2  NaN  6.0  9\n",
            "\n",
            "Identify missing values:\n",
            "       A      B      C\n",
            "0  False  False  False\n",
            "1  False   True  False\n",
            "2   True  False  False\n"
          ]
        }
      ],
      "source": [
        "import pandas as pd\n",
        "import numpy as np\n",
        "\n",
        "# Creating a DataFrame with missing values\n",
        "df = pd.DataFrame({\n",
        "    'A': [1, 2, np.nan],\n",
        "    'B': [5, np.nan, 6],\n",
        "    'C': [7, 8, 9]\n",
        "})\n",
        "\n",
        "# Using isnull() to identify missing values\n",
        "print(\"Actual DataFrame:\")\n",
        "print(df)\n",
        "\n",
        "print(\"\\nIdentify missing values:\")\n",
        "print(df.isnull())"
      ]
    },
    {
      "cell_type": "markdown",
      "source": [
        "This method simply checks whether a cell in the DataFrame has a missing value or not.\n",
        "\n",
        "This will print a DataFrame indicating True for missing values and False for others."
      ],
      "metadata": {
        "id": "KmyPoAyEvjta"
      }
    },
    {
      "cell_type": "markdown",
      "metadata": {
        "id": "QSS6l72rdmY7"
      },
      "source": [
        "#### **Counting Missing Values**\n",
        "\n",
        "We can chain the .sum() method after isnull() to count the number of missing values in each column:"
      ]
    },
    {
      "cell_type": "code",
      "execution_count": null,
      "metadata": {
        "id": "cH4w-CwndmY8",
        "outputId": "4393e647-fd8d-43fe-afca-3202aee4c14c"
      },
      "outputs": [
        {
          "name": "stdout",
          "output_type": "stream",
          "text": [
            "A    1\n",
            "B    1\n",
            "C    0\n",
            "dtype: int64\n"
          ]
        }
      ],
      "source": [
        "print(df.isnull().sum())\n"
      ]
    },
    {
      "cell_type": "markdown",
      "metadata": {
        "id": "zKewGlmudmY9"
      },
      "source": [
        "The outut above shows the count of missing values in each column."
      ]
    },
    {
      "cell_type": "markdown",
      "metadata": {
        "id": "yUThBY74dmY_"
      },
      "source": [
        "### **Ways to Handle Missing Values**\n",
        "\n",
        "Handling missing values usually involves one of the following three approaches:\n",
        "\n",
        "1. Removing the row containing the missing value.\n",
        "2. Filling the missing value with a statistical measure like the mean or median.\n",
        "3. Using a model to predict the missing values.\n",
        "\n",
        "*In this course, we'll focus on the first two approaches.*"
      ]
    },
    {
      "cell_type": "markdown",
      "metadata": {
        "id": "SI3AWauvdmZA"
      },
      "source": [
        "#### **1. Deleting Rows**\n",
        "\n",
        "You can remove any row containing a missing value using the ```dropna()``` method on the dataframe object ```df```:"
      ]
    },
    {
      "cell_type": "code",
      "execution_count": null,
      "metadata": {
        "id": "6H-LYgiYdmZB",
        "outputId": "351eaeb4-d518-484d-9ff5-0e4359231467"
      },
      "outputs": [
        {
          "name": "stdout",
          "output_type": "stream",
          "text": [
            "     A    B  C\n",
            "0  1.0  5.0  7\n"
          ]
        }
      ],
      "source": [
        "df_dropped = df.dropna()\n",
        "print(df_dropped)\n"
      ]
    },
    {
      "cell_type": "markdown",
      "metadata": {
        "id": "gHi6orI8dmZC"
      },
      "source": [
        "***Note - If you want to save the results in the original dataframe, you may use \"```inplace = True```\" in the ```dropna()``` method.***"
      ]
    },
    {
      "cell_type": "markdown",
      "metadata": {
        "id": "CkG2EJ2zdmZC"
      },
      "source": [
        "#### **2. Filling Missing Values**\n",
        "\n",
        "You can fill missing values with the ***mean*** or ***median*** using the ```fillna()``` method:"
      ]
    },
    {
      "cell_type": "code",
      "execution_count": null,
      "metadata": {
        "id": "k4kGBXIDdmZD",
        "outputId": "dd07a68c-ebd0-4095-8ed2-38722ec41ee3"
      },
      "outputs": [
        {
          "name": "stdout",
          "output_type": "stream",
          "text": [
            "This is the mean of each column:\n",
            "A    1.5\n",
            "B    5.5\n",
            "C    8.0\n",
            "dtype: float64\n",
            "\n",
            " This is the filled dataframe:\n",
            "     A    B  C\n",
            "0  1.0  5.0  7\n",
            "1  2.0  5.5  8\n",
            "2  1.5  6.0  9\n"
          ]
        }
      ],
      "source": [
        "# Filling with mean\n",
        "df_filled_mean = df.fillna(df.mean()) # df.mean() returns a series with mean of each column in df as values and column names as index\n",
        "\n",
        "print(\"This is the mean of each column:\")\n",
        "print(df.mean())\n",
        "\n",
        "print(\"\\n This is the filled dataframe:\")\n",
        "print(df_filled_mean)\n"
      ]
    },
    {
      "cell_type": "markdown",
      "metadata": {
        "id": "kNH27y-UdmZD"
      },
      "source": [
        "***Note - you may supply any value to be filled in place of NAs***"
      ]
    },
    {
      "cell_type": "code",
      "execution_count": null,
      "metadata": {
        "id": "wFgj0waxdmZD",
        "outputId": "966b7946-019d-48f1-eb0a-10741f2d91ed"
      },
      "outputs": [
        {
          "name": "stdout",
          "output_type": "stream",
          "text": [
            "Data frame where NAs are filled with 0:\n",
            "     A    B  C\n",
            "0  1.0  5.0  7\n",
            "1  2.0  0.0  8\n",
            "2  0.0  6.0  9\n"
          ]
        }
      ],
      "source": [
        "df_filled_with_0 = df.fillna(0)\n",
        "\n",
        "print(\"Data frame where NAs are filled with 0:\")\n",
        "print(df_filled_with_0)"
      ]
    },
    {
      "cell_type": "markdown",
      "metadata": {
        "id": "ap3HEcp8dmZE"
      },
      "source": [
        "### **Practice Question - fill the missing values in the following DataFrame using the median of each column**\n",
        "\n"
      ]
    },
    {
      "cell_type": "code",
      "execution_count": null,
      "metadata": {
        "id": "W73wkiWVdmZE",
        "outputId": "3c13f05a-16c5-4435-a40b-2902c8852839"
      },
      "outputs": [
        {
          "data": {
            "text/html": [
              "<div>\n",
              "<style scoped>\n",
              "    .dataframe tbody tr th:only-of-type {\n",
              "        vertical-align: middle;\n",
              "    }\n",
              "\n",
              "    .dataframe tbody tr th {\n",
              "        vertical-align: top;\n",
              "    }\n",
              "\n",
              "    .dataframe thead th {\n",
              "        text-align: right;\n",
              "    }\n",
              "</style>\n",
              "<table border=\"1\" class=\"dataframe\">\n",
              "  <thead>\n",
              "    <tr style=\"text-align: right;\">\n",
              "      <th></th>\n",
              "      <th>X</th>\n",
              "      <th>Y</th>\n",
              "      <th>Z</th>\n",
              "    </tr>\n",
              "  </thead>\n",
              "  <tbody>\n",
              "    <tr>\n",
              "      <th>0</th>\n",
              "      <td>10.0</td>\n",
              "      <td>40.0</td>\n",
              "      <td>60</td>\n",
              "    </tr>\n",
              "    <tr>\n",
              "      <th>1</th>\n",
              "      <td>NaN</td>\n",
              "      <td>50.0</td>\n",
              "      <td>70</td>\n",
              "    </tr>\n",
              "    <tr>\n",
              "      <th>2</th>\n",
              "      <td>30.0</td>\n",
              "      <td>NaN</td>\n",
              "      <td>80</td>\n",
              "    </tr>\n",
              "  </tbody>\n",
              "</table>\n",
              "</div>"
            ],
            "text/plain": [
              "      X     Y   Z\n",
              "0  10.0  40.0  60\n",
              "1   NaN  50.0  70\n",
              "2  30.0   NaN  80"
            ]
          },
          "execution_count": 18,
          "metadata": {},
          "output_type": "execute_result"
        }
      ],
      "source": [
        "practice_df = pd.DataFrame({\n",
        "    'X': [10, np.nan, 30],\n",
        "    'Y': [40, 50, np.nan],\n",
        "    'Z': [60, 70, 80]\n",
        "})\n",
        "\n",
        "practice_df"
      ]
    },
    {
      "cell_type": "code",
      "source": [
        "# write your code here"
      ],
      "metadata": {
        "id": "JY91RV7q1gRX"
      },
      "execution_count": null,
      "outputs": []
    },
    {
      "cell_type": "markdown",
      "metadata": {
        "id": "8BJMztgLdmZF"
      },
      "source": [
        "# **Duplicates**"
      ]
    },
    {
      "cell_type": "markdown",
      "metadata": {
        "id": "Vn1WWAnDdmZG"
      },
      "source": [
        "### **Duplicate rows**\n",
        "\n",
        "Sometimes, out data may have duplicate rows that we must remove before any analysis. A duplicate row is one which has exactly same value as any other row preceding it."
      ]
    },
    {
      "cell_type": "markdown",
      "metadata": {
        "id": "Q4x-8O90dmZG"
      },
      "source": [
        "###  **Identifying Duplicates**\n",
        "\n",
        "We can use the method ```.duplicated()``` on the dataframe object to check which rows are duplicates. This method will print True or False based on whether the row is a duplicate or not.\n",
        "\n",
        "Let's see in the following example."
      ]
    },
    {
      "cell_type": "code",
      "execution_count": null,
      "metadata": {
        "id": "V97QKklodmZH",
        "outputId": "058ec4a3-886e-47f6-d214-389189c8382f"
      },
      "outputs": [
        {
          "name": "stdout",
          "output_type": "stream",
          "text": [
            "    X   Y   Z\n",
            "0  10  40  60\n",
            "1  20  50  70\n",
            "2  30  60  80\n",
            "3  30  60  80\n"
          ]
        }
      ],
      "source": [
        "df = pd.DataFrame({\n",
        "    'X': [10, 20, 30, 30],\n",
        "    'Y': [40, 50, 60, 60],\n",
        "    'Z': [60, 70, 80, 80]\n",
        "})\n",
        "\n",
        "print(df)\n"
      ]
    },
    {
      "cell_type": "markdown",
      "metadata": {
        "id": "YpteAJ6wdmZJ"
      },
      "source": [
        "You may notice that rows at index 2 and 3 are duplicates of each other. When, we use ```.duplicated()``` on ```df```, it will start from the top and go down. Thus, row at index 2 won't be flagged as **duplicate** because no preceding row matched it. However, row at index 3 will be considered **duplicate**."
      ]
    },
    {
      "cell_type": "code",
      "execution_count": null,
      "metadata": {
        "id": "hCDOrIXsdmZK",
        "outputId": "215a79c7-eb8d-48a1-8064-b4701ed7dc90"
      },
      "outputs": [
        {
          "name": "stdout",
          "output_type": "stream",
          "text": [
            "0    False\n",
            "1    False\n",
            "2    False\n",
            "3     True\n",
            "dtype: bool\n",
            "\n",
            " The number of duplicate rows in the dataset is: \n",
            "1\n"
          ]
        }
      ],
      "source": [
        "# check which rows are duplicates\n",
        "print(df.duplicated())\n",
        "\n",
        "# calculate the number of duplicate rows in the dataset\n",
        "print(\"\\n The number of duplicate rows in the dataset is: \")\n",
        "print(df.duplicated().sum())"
      ]
    },
    {
      "cell_type": "markdown",
      "metadata": {
        "id": "3vnXhlF7dmZL"
      },
      "source": [
        "### **Removing Duplicates**\n",
        "\n",
        "We can use ```.drop_duplicates``` to drop the duplicate rows."
      ]
    },
    {
      "cell_type": "code",
      "execution_count": null,
      "metadata": {
        "id": "0dJ3liHqdmZL",
        "outputId": "d99ec5dc-a6b8-4318-dc2c-ee4dcd12b839"
      },
      "outputs": [
        {
          "name": "stdout",
          "output_type": "stream",
          "text": [
            "    X   Y   Z\n",
            "0  10  40  60\n",
            "1  20  50  70\n",
            "2  30  60  80\n"
          ]
        }
      ],
      "source": [
        "print(df.drop_duplicates())"
      ]
    },
    {
      "cell_type": "markdown",
      "metadata": {
        "id": "e5PRI3-ndmZM"
      },
      "source": [
        "**Note - Using `drop_duplicates()` did not drop the duplicate rows from the original dataframe `df` yet. It simply printed the result. You may use `inplace = True` to save changes in the original dataframe `df`**"
      ]
    },
    {
      "cell_type": "code",
      "execution_count": null,
      "metadata": {
        "id": "-IME9uo2dmZM",
        "outputId": "49138acf-808c-424a-8aea-25e60e706349"
      },
      "outputs": [
        {
          "name": "stdout",
          "output_type": "stream",
          "text": [
            "    X   Y   Z\n",
            "0  10  40  60\n",
            "1  20  50  70\n",
            "2  30  60  80\n",
            "3  30  60  80\n"
          ]
        }
      ],
      "source": [
        "print(df) # print the original dataframe"
      ]
    },
    {
      "cell_type": "code",
      "execution_count": null,
      "metadata": {
        "id": "hgP8gYUTdmZM",
        "outputId": "0186fe5d-c8e6-4049-cd19-c2f6aac10292"
      },
      "outputs": [
        {
          "name": "stdout",
          "output_type": "stream",
          "text": [
            "    X   Y   Z\n",
            "0  10  40  60\n",
            "1  20  50  70\n",
            "2  30  60  80\n"
          ]
        }
      ],
      "source": [
        "df.drop_duplicates(inplace=True) # inplace=True means that the changes are saved to the df right away\n",
        "\n",
        "print(df) # print the df to see the changes"
      ]
    },
    {
      "cell_type": "markdown",
      "metadata": {
        "id": "R2Fia8xGdmZN"
      },
      "source": [
        "# **Outliers**\n",
        "\n"
      ]
    },
    {
      "cell_type": "markdown",
      "metadata": {
        "id": "hPhWauc0dmZN"
      },
      "source": [
        "### **What are outliers?**\n",
        "\n",
        "Outliers are data points that differ significantly from other observations in a dataset. They can be a result of variability in the data or errors."
      ]
    },
    {
      "cell_type": "markdown",
      "metadata": {
        "id": "a9I3evsodmZO"
      },
      "source": [
        "### **Why Are Outliers Problematic?**\n",
        "\n",
        "Outliers can cause problems in statistical analyses because they can skew results and affect the assumptions of many statistical techniques.\n",
        "\n",
        "For instance, in linear regression, an outlier can influence the slope and intercept of the regression line, making it a poor representation of the data.\n",
        "\n",
        "Let's visualize this with a scatter plot:\n",
        "\n",
        "*Note - Don't worry about the code. Just focus on the visualization.*"
      ]
    },
    {
      "cell_type": "code",
      "execution_count": null,
      "metadata": {
        "id": "iU8ooDatdmZO",
        "outputId": "8da71a78-8c4f-4678-d717-ea51e24523fb"
      },
      "outputs": [
        {
          "data": {
            "image/png": "[encoded data removed]",
            "text/plain": [
              "<Figure size 640x480 with 1 Axes>"
            ]
          },
          "metadata": {},
          "output_type": "display_data"
        }
      ],
      "source": [
        "import matplotlib.pyplot as plt\n",
        "import numpy as np\n",
        "\n",
        "# Creating some sample data\n",
        "x = [i for i in range(10)]\n",
        "y = [2*i + 3 for i in range(10)]\n",
        "\n",
        "# Without Outlier\n",
        "m, b = np.polyfit(x, y, 1)  # Calculate the slope and intercept\n",
        "plt.scatter(x, y, color='blue')\n",
        "plt.plot(x, [m*i + b for i in x], color='blue', label='Without Outlier')\n",
        "\n",
        "# Adding an outlier\n",
        "x.append(8)\n",
        "y.append(100)\n",
        "\n",
        "# With Outlier\n",
        "m, b = np.polyfit(x, y, 1)  # Calculate the slope and intercept with outlier\n",
        "plt.scatter(x, y, color='red', alpha=0.6)\n",
        "plt.plot(x, [m*i + b for i in x], color='red', linestyle='--', label='With Outlier')\n",
        "\n",
        "plt.title('Effect of an Outlier on Linear Regression')\n",
        "plt.xlabel('X')\n",
        "plt.ylabel('Y')\n",
        "plt.legend()\n",
        "plt.show()\n",
        "\n"
      ]
    },
    {
      "cell_type": "markdown",
      "metadata": {
        "id": "8oiDGnIEdmZP"
      },
      "source": [
        "***The outlier in the above example drastically changed the relationship and fit of the linear regression model.***"
      ]
    },
    {
      "cell_type": "markdown",
      "metadata": {
        "id": "bEHTwvAWdmZP"
      },
      "source": [
        "### **How do we identify outliers in the data?**\n",
        "\n",
        "One common way to check for outliers is using ***boxplots***. A boxplot can visually show potential outliers as data points that fall outside the \"whiskers\" or ends of the boxes.\n",
        "\n"
      ]
    },
    {
      "cell_type": "code",
      "execution_count": null,
      "metadata": {
        "id": "Y2AkYhpIdmZQ",
        "outputId": "04c886a5-53f7-4657-e78b-628f1abba00d"
      },
      "outputs": [
        {
          "data": {
            "image/png": "[encoded data removed]",
            "text/plain": [
              "<Figure size 640x480 with 1 Axes>"
            ]
          },
          "metadata": {},
          "output_type": "display_data"
        }
      ],
      "source": [
        "plt.boxplot(y)\n",
        "plt.title('Boxplot to Identify Outliers')\n",
        "plt.show()\n"
      ]
    },
    {
      "cell_type": "markdown",
      "metadata": {
        "id": "oOnBhrlXdmZQ"
      },
      "source": [
        "Another method to identify outliers is the **z-score**.\n",
        "\n",
        "**Z-scores** measure the number of standard deviations an element is from the mean. A z-score ```greater than 3 or less than -3``` typically indicates that an item is an ```outlier```."
      ]
    },
    {
      "cell_type": "code",
      "execution_count": null,
      "metadata": {
        "id": "NJtAzmvFdmZR",
        "outputId": "885dc092-300d-47d3-ca6b-a7a5991b4579"
      },
      "outputs": [
        {
          "name": "stdout",
          "output_type": "stream",
          "text": [
            "      0  z-scores\n",
            "0     3 -0.656767\n",
            "1     5 -0.579501\n",
            "2     7 -0.502234\n",
            "3     9 -0.424967\n",
            "4    11 -0.347700\n",
            "5    13 -0.270434\n",
            "6    15 -0.193167\n",
            "7    17 -0.115900\n",
            "8    19 -0.038633\n",
            "9    21  0.038633\n",
            "10  100  3.090670\n"
          ]
        }
      ],
      "source": [
        "from scipy.stats import zscore\n",
        "y_df = pd.DataFrame(y)\n",
        "\n",
        "y_df[\"z-scores\"] = zscore(y)\n",
        "\n",
        "print(y_df)\n"
      ]
    },
    {
      "cell_type": "markdown",
      "metadata": {
        "id": "0XZqKWOWdmZR"
      },
      "source": [
        "You may note that the outlier value \"100\" has a z-score of 3.09.\n",
        "\n",
        "**Note - The cut-off value of +/- 3 is a rule of thumb. Depending on the context, you may define this to be less or more.**"
      ]
    },
    {
      "cell_type": "markdown",
      "metadata": {
        "id": "5qOG_Ao9dmZS"
      },
      "source": [
        "### **Handling Outliers**"
      ]
    },
    {
      "cell_type": "markdown",
      "metadata": {
        "id": "tdyAVD6cdmZS"
      },
      "source": [
        "**Winsorization**\n",
        "\n",
        "One approach to handle outliers is Winsorization.\n",
        "It involves setting extreme values to a specified percentile of the data. For example, we may replace very small or very large values by some boundary values.\n"
      ]
    },
    {
      "cell_type": "code",
      "execution_count": null,
      "metadata": {
        "id": "A8c6CbOvdmZS",
        "outputId": "29b6f729-c875-42c0-88a9-9e41de64a577"
      },
      "outputs": [
        {
          "name": "stdout",
          "output_type": "stream",
          "text": [
            "[ 5  5  7  9 11 13 15 17 19 21 21]\n"
          ]
        }
      ],
      "source": [
        "from scipy.stats import mstats\n",
        "\n",
        "# Winsorizing data at 10% and 90% percentiles\n",
        "\n",
        "y = np.array(y) # y is a list of values to be winsorized. We convert it to a numpy array for mathematical operations.\n",
        "y_winsorized = mstats.winsorize(y, limits=[0.1, 0.1])\n",
        "\n",
        "print(y_winsorized)\n"
      ]
    },
    {
      "cell_type": "code",
      "execution_count": null,
      "metadata": {
        "id": "QfEzLtQedmZU",
        "outputId": "0f4edeb8-8892-4624-cfdc-5241844c1b17"
      },
      "outputs": [
        {
          "data": {
            "image/png": "[encoded data removed]",
            "text/plain": [
              "<Figure size 640x480 with 1 Axes>"
            ]
          },
          "metadata": {},
          "output_type": "display_data"
        }
      ],
      "source": [
        "plt.scatter(x, y_winsorized, color='red')\n",
        "plt.title('Data After Winsorization')\n",
        "plt.xlabel('X')\n",
        "plt.ylabel('Y')\n",
        "plt.show()"
      ]
    },
    {
      "cell_type": "markdown",
      "metadata": {
        "id": "GMnqjVfedmZU"
      },
      "source": [
        "# **Dummy Coding Categorical Variables**"
      ]
    },
    {
      "cell_type": "markdown",
      "metadata": {
        "id": "ugIXutA-dmZU"
      },
      "source": [
        "### **Why dummy Coding?**\n",
        "\n",
        "Categorical data consists of variables that can take on specific, limited values such as 'Yes' or 'No', 'Red', 'Green', or 'Blue', etc. These values don't have any inherent numerical relationship, making it difficult for machine learning algorithms to directly interpret them. To address this issue, we use a technique called **dummy coding**.\n",
        "\n",
        "Dummy coding involves converting categorical variables into a binary (0 or 1) representation, where each unique category becomes a separate binary column. This enables machine learning algorithms to work with categorical data effectively, as they can now treat each category as an independent feature with a clear numerical interpretation.\n"
      ]
    },
    {
      "cell_type": "markdown",
      "metadata": {
        "id": "xcdQF-oidmZV"
      },
      "source": [
        "### **Performing Dummy Coding**\n",
        "\n",
        "We can use `pd.get_dummies()` function to perform dummy coding on categorical data.\n",
        "\n",
        "It creates a new DataFrame where each category becomes a new column with binary values (1 and 0) representing its presence or absence of the category.\n",
        "\n",
        "For example, let's use a small dataset:"
      ]
    },
    {
      "cell_type": "code",
      "execution_count": null,
      "metadata": {
        "id": "0KAzQDPwdmZV",
        "outputId": "3112a313-5709-4fad-c48d-bcde85730869"
      },
      "outputs": [
        {
          "name": "stdout",
          "output_type": "stream",
          "text": [
            "   Color    Size\n",
            "0    Red   Small\n",
            "1  Green   Large\n",
            "2   Blue  Medium\n",
            "3    Red  Medium\n",
            "4   Blue   Small\n"
          ]
        }
      ],
      "source": [
        "# Creating a small example dataset\n",
        "data = {'Color': ['Red', 'Green', 'Blue', 'Red', 'Blue'],\n",
        "        'Size': ['Small', 'Large', 'Medium', 'Medium', 'Small']}\n",
        "\n",
        "df = pd.DataFrame(data)\n",
        "\n",
        "print(df)"
      ]
    },
    {
      "cell_type": "markdown",
      "metadata": {
        "id": "ShaflPWRdmZV"
      },
      "source": [
        "There are three categories in color and three in size as you can see below."
      ]
    },
    {
      "cell_type": "code",
      "execution_count": null,
      "metadata": {
        "id": "v6Hr__QbdmZV",
        "outputId": "8268ce90-d1bf-46fd-eb45-93eecb0fe288"
      },
      "outputs": [
        {
          "name": "stdout",
          "output_type": "stream",
          "text": [
            "Option in colors: \n",
            " Red      2\n",
            "Blue     2\n",
            "Green    1\n",
            "Name: Color, dtype: int64\n",
            "\n",
            "\n",
            "Option in sizes: \n",
            " Small     2\n",
            "Medium    2\n",
            "Large     1\n",
            "Name: Size, dtype: int64\n"
          ]
        }
      ],
      "source": [
        "print('Option in colors: \\n', df.Color.value_counts())\n",
        "print('\\n')\n",
        "print('Option in sizes: \\n', df.Size.value_counts())"
      ]
    },
    {
      "cell_type": "markdown",
      "metadata": {
        "id": "UcpeUcKPdmZV"
      },
      "source": [
        "After dummy coding, there will be a separate column for each color and each size."
      ]
    },
    {
      "cell_type": "code",
      "execution_count": null,
      "metadata": {
        "id": "IVsRyJ_tdmZW",
        "outputId": "a3f7dfc4-c813-4b96-ba03-80927fbac597"
      },
      "outputs": [
        {
          "name": "stdout",
          "output_type": "stream",
          "text": [
            "Default options: \n",
            "    Color_Blue  Color_Green  Color_Red  Size_Large  Size_Medium  Size_Small\n",
            "0           0            0          1           0            0           1\n",
            "1           0            1          0           1            0           0\n",
            "2           1            0          0           0            1           0\n",
            "3           0            0          1           0            1           0\n",
            "4           1            0          0           0            0           1\n"
          ]
        }
      ],
      "source": [
        "# Performing dummy coding with default options\n",
        "dummy_df_default = pd.get_dummies(df)\n",
        "\n",
        "print('Default options: \\n', dummy_df_default.head())"
      ]
    },
    {
      "cell_type": "markdown",
      "metadata": {
        "id": "u1feqcXJdmZW"
      },
      "source": [
        "If you think carefully, we don't need all three columns to represent the three color categories or three columns to represent three sizes. This is because we can ascertain all three colors by asking only two questions: 1) is the color Blue 2) is the color Green. If the answer to any of these two questions is yes (1), we not the color or if the answer to both the questions is no (0), we know the color must be Red.\n",
        "\n",
        "Therefore, we may drop one column for color and one column for size and still retain all the information that we have."
      ]
    },
    {
      "cell_type": "code",
      "execution_count": null,
      "metadata": {
        "id": "_xw1gvAbdmZX",
        "outputId": "5828aa18-6dad-4e9e-c22b-8cf562006eb5"
      },
      "outputs": [
        {
          "name": "stdout",
          "output_type": "stream",
          "text": [
            "Dropping first options: \n",
            "    Color_Green  Color_Red  Size_Medium  Size_Small\n",
            "0            0          1            0           1\n",
            "1            1          0            0           0\n",
            "2            0          0            1           0\n",
            "3            0          1            1           0\n",
            "4            0          0            0           1\n"
          ]
        }
      ],
      "source": [
        "# Performing dummy coding with drop_first = True\n",
        "dummy_df_drop_first = pd.get_dummies(df, drop_first=True)\n",
        "\n",
        "print('Dropping first options: \\n', dummy_df_drop_first.head())"
      ]
    },
    {
      "cell_type": "markdown",
      "metadata": {
        "id": "WGuve9mhdmZX"
      },
      "source": [
        "You should be wondering why `Blue` color  and `Large` size were dropped.\n",
        "\n",
        "They were dropped because alphabetically they come first in their respective categories."
      ]
    },
    {
      "cell_type": "markdown",
      "metadata": {
        "id": "LpSoj1kadmZX"
      },
      "source": [
        "# **Scaling Data** (Optional)"
      ]
    },
    {
      "cell_type": "markdown",
      "metadata": {
        "id": "wt-u-7NTdmZY"
      },
      "source": [
        "**Why is Scaling Important?**\n",
        "\n",
        "In modeling, the scale on which independent variables are measured have direct impact on the interpretation of the model coefficients.\n",
        "\n",
        "Consider a scenario where we have two features: age (measured in years) and experience (measured in months). The coefficients obtained from a linear regression model will be affected by the scale of these features. By scaling them to a standard scale, the coefficients become more interpretable and comparable.\n",
        "\n",
        "Moreover, In machine learning, when different features have different scales, algorithms that rely on distance or gradient (like linear regression, k-means, or gradient descent) will not perform optimally."
      ]
    },
    {
      "cell_type": "markdown",
      "metadata": {
        "id": "52DX0w83dmZY"
      },
      "source": [
        "**Z-Scoring**\n",
        "Z-scoring, is also known as standard scaling,. This scaling centers the data around zero and scales based on standard deviation.\n",
        "\n"
      ]
    }
  ],
  "metadata": {
    "kernelspec": {
      "display_name": "Python 3",
      "language": "python",
      "name": "python3"
    },
    "language_info": {
      "codemirror_mode": {
        "name": "ipython",
        "version": 3
      },
      "file_extension": ".py",
      "mimetype": "text/x-python",
      "name": "python",
      "nbconvert_exporter": "python",
      "pygments_lexer": "ipython3",
      "version": "3.10.9"
    },
    "orig_nbformat": 4,
    "colab": {
      "provenance": [],
      "include_colab_link": true
    }
  },
  "nbformat": 4,
  "nbformat_minor": 0
}