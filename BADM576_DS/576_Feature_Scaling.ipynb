{
  "cells": [
    {
      "cell_type": "markdown",
      "metadata": {
        "id": "view-in-github",
        "colab_type": "text"
      },
      "source": [
        "<a href=\"https://colab.research.google.com/github/kyook17/UIUC_BADM/blob/main/BADM576_DS/576_Feature_Scaling.ipynb\" target=\"_parent\"><img src=\"https://colab.research.google.com/assets/colab-badge.svg\" alt=\"Open In Colab\"/></a>"
      ]
    },
    {
      "cell_type": "code",
      "execution_count": null,
      "metadata": {
        "id": "1YcpgWa3Kqia"
      },
      "outputs": [],
      "source": [
        "import pandas as pd"
      ]
    },
    {
      "cell_type": "markdown",
      "metadata": {
        "id": "sY18cuH4Kqia"
      },
      "source": [
        "**Standardization**\n",
        "$z = (x - x.mean) / std$\n",
        "\n",
        "* centers the mean at 0\n",
        "* scales the variance at 1\n",
        "* preserves the shape of the original distribution\n",
        "* the minimum and maximum values of the different variables may vary\n",
        "* preserves outliers\n",
        "\n"
      ]
    },
    {
      "cell_type": "code",
      "execution_count": null,
      "metadata": {
        "id": "ev90RE1SKqib"
      },
      "outputs": [],
      "source": [
        "from sklearn.preprocessing import StandardScaler"
      ]
    },
    {
      "cell_type": "markdown",
      "metadata": {
        "id": "jSC_vpmpKqib"
      },
      "source": [
        "**MinMaxScaling**\n",
        "\n",
        "$Xscaled = (X - X.min )/ (X.max - X.min)$\n",
        "\n",
        "* does not center the mean at 0\n",
        "* variance varies across variables\n",
        "* may not preserve the shape of the original distribution\n",
        "* the minimum and maximum values are 0 and 1.\n",
        "* sensitive to outliers"
      ]
    },
    {
      "cell_type": "code",
      "execution_count": null,
      "metadata": {
        "id": "El2NWdUaKqib"
      },
      "outputs": [],
      "source": [
        "from sklearn.preprocessing import MinMaxScaler"
      ]
    },
    {
      "cell_type": "markdown",
      "metadata": {
        "id": "G4w6ibbLKqib"
      },
      "source": [
        "There are several others. However, the two most common ones are **StandardScaler** and **MinMaxScaler**"
      ]
    },
    {
      "cell_type": "code",
      "execution_count": null,
      "metadata": {
        "id": "_0dj1ctGKqib"
      },
      "outputs": [],
      "source": []
    },
    {
      "cell_type": "markdown",
      "source": [
        "# Example on the imapct of Scaling on Model Performance\n"
      ],
      "metadata": {
        "id": "SfwMOfYNMwZU"
      }
    },
    {
      "cell_type": "code",
      "source": [
        "!pip install dmba"
      ],
      "metadata": {
        "id": "rQ6CeWCNN6wr"
      },
      "execution_count": null,
      "outputs": []
    },
    {
      "cell_type": "code",
      "source": [
        "from sklearn.datasets import load_wine\n",
        "from sklearn.model_selection import train_test_split\n",
        "from sklearn.linear_model import LinearRegression\n",
        "from sklearn.preprocessing import StandardScaler, MinMaxScaler\n",
        "import numpy as np\n",
        "import matplotlib.pyplot as plt\n",
        "from dmba import regressionSummary\n"
      ],
      "metadata": {
        "id": "AA51kiLTM2VU"
      },
      "execution_count": null,
      "outputs": []
    },
    {
      "cell_type": "code",
      "source": [
        "# Load wine dataset\n",
        "data = load_wine(as_frame=True)\n",
        "X = data.data\n",
        "y = data.target\n",
        "\n"
      ],
      "metadata": {
        "id": "Qj237RQ_M4kN"
      },
      "execution_count": null,
      "outputs": []
    },
    {
      "cell_type": "code",
      "source": [
        "# Split the data into training and testing sets\n",
        "X_train, X_test, y_train, y_test = train_test_split(X, y, test_size=0.2, random_state=42)\n",
        "\n"
      ],
      "metadata": {
        "id": "HiqiMaEqM6Bk"
      },
      "execution_count": null,
      "outputs": []
    },
    {
      "cell_type": "markdown",
      "source": [
        "# Comparing Linear Regression Models w/o scaling, with standard scaling and with min-max scaling."
      ],
      "metadata": {
        "id": "OO9wAGnTOvqD"
      }
    },
    {
      "cell_type": "code",
      "source": [
        "# Initialize the model\n",
        "linear_model = LinearRegression()\n",
        "\n"
      ],
      "metadata": {
        "id": "A5oaQ-jYM7tE"
      },
      "execution_count": null,
      "outputs": []
    },
    {
      "cell_type": "code",
      "source": [
        "# Train and evaluate without scaling\n",
        "linear_model.fit(X_train, y_train) # Fitting the model\n",
        "predictions = linear_model.predict(X_test) # Making predictions\n",
        "\n",
        "regressionSummary(y_test, predictions) # Check model performance\n",
        "\n",
        "\n"
      ],
      "metadata": {
        "colab": {
          "base_uri": "https://localhost:8080/"
        },
        "id": "6Zqzpky_M9e0",
        "outputId": "f8de52f1-1b38-442f-936a-e99058cd644e"
      },
      "execution_count": null,
      "outputs": [
        {
          "output_type": "stream",
          "name": "stdout",
          "text": [
            "\n",
            "Regression statistics\n",
            "\n",
            "               Mean Error (ME) : -0.0081\n",
            "Root Mean Squared Error (RMSE) : 0.2618\n",
            "     Mean Absolute Error (MAE) : 0.2030\n"
          ]
        }
      ]
    },
    {
      "cell_type": "code",
      "source": [
        "# Standard Scaling\n",
        "scaler_standard = StandardScaler() # Initialize Standard Scaler\n",
        "\n",
        "X_train_scaled_standard = scaler_standard.fit_transform(X_train) # Fit the scaler and transform the train data\n",
        "X_test_scaled_standard = scaler_standard.transform(X_test) # Transform the test data\n",
        "\n",
        "linear_model.fit(X_train_scaled_standard, y_train) # Fitting the model\n",
        "predictions_standard = linear_model.predict(X_test_scaled_standard) # Making predictions\n",
        "\n",
        "regressionSummary(y_test, predictions_standard) # Check model performance\n"
      ],
      "metadata": {
        "colab": {
          "base_uri": "https://localhost:8080/"
        },
        "id": "hKQ-2ImQM_pc",
        "outputId": "3eaf477d-a867-47f9-e101-e05ab539ee22"
      },
      "execution_count": null,
      "outputs": [
        {
          "output_type": "stream",
          "name": "stdout",
          "text": [
            "\n",
            "Regression statistics\n",
            "\n",
            "               Mean Error (ME) : -0.0081\n",
            "Root Mean Squared Error (RMSE) : 0.2618\n",
            "     Mean Absolute Error (MAE) : 0.2030\n"
          ]
        }
      ]
    },
    {
      "cell_type": "code",
      "source": [
        "# Min-Max Scaling\n",
        "scaler_min_max = MinMaxScaler() # Initialize Min Max Scaler\n",
        "\n",
        "X_train_scaled_min_max = scaler_min_max.fit_transform(X_train)  # Fit the scaler and transform the train data\n",
        "X_test_scaled_min_max = scaler_min_max.transform(X_test) # Transform the test data\n",
        "\n",
        "linear_model.fit(X_train_scaled_min_max, y_train) # Fitting the model\n",
        "\n",
        "predictions_min_max = linear_model.predict(X_test_scaled_min_max) # Making predictions\n",
        "\n",
        "regressionSummary(y_test, predictions_min_max) # Check model performance\n"
      ],
      "metadata": {
        "colab": {
          "base_uri": "https://localhost:8080/"
        },
        "id": "bJ1pU89TNBZ8",
        "outputId": "02c4e318-df4e-40b6-dd11-735425f721cc"
      },
      "execution_count": null,
      "outputs": [
        {
          "output_type": "stream",
          "name": "stdout",
          "text": [
            "\n",
            "Regression statistics\n",
            "\n",
            "               Mean Error (ME) : -0.0081\n",
            "Root Mean Squared Error (RMSE) : 0.2618\n",
            "     Mean Absolute Error (MAE) : 0.2030\n"
          ]
        }
      ]
    },
    {
      "cell_type": "markdown",
      "source": [
        "## We don't see any difference in the model performance."
      ],
      "metadata": {
        "id": "x4OF6oTGO5Sr"
      }
    },
    {
      "cell_type": "markdown",
      "source": [
        "# Comparing K-Nearest Neighbor Models w/o scaling, with standard scaling and with min-max scaling."
      ],
      "metadata": {
        "id": "i0py4c0APE6j"
      }
    },
    {
      "cell_type": "code",
      "source": [
        "# Initialize the model\n",
        "from sklearn.neighbors import KNeighborsRegressor\n",
        "\n",
        "knn_model = KNeighborsRegressor()"
      ],
      "metadata": {
        "id": "sUOaZyGSPE6k"
      },
      "execution_count": null,
      "outputs": []
    },
    {
      "cell_type": "code",
      "source": [
        "# Train and evaluate without scaling\n",
        "knn_model.fit(X_train, y_train) # Fitting the model\n",
        "\n",
        "predictions = knn_model.predict(X_test) # Making predictions\n",
        "\n",
        "regressionSummary(y_test, predictions) # Check model performance\n",
        "\n",
        "\n"
      ],
      "metadata": {
        "colab": {
          "base_uri": "https://localhost:8080/"
        },
        "outputId": "88dd3a81-ac8f-491c-df7b-e3864d2f0b6b",
        "id": "TxsO2vGyPE6k"
      },
      "execution_count": null,
      "outputs": [
        {
          "output_type": "stream",
          "name": "stdout",
          "text": [
            "\n",
            "Regression statistics\n",
            "\n",
            "               Mean Error (ME) : -0.0056\n",
            "Root Mean Squared Error (RMSE) : 0.5385\n",
            "     Mean Absolute Error (MAE) : 0.3167\n"
          ]
        }
      ]
    },
    {
      "cell_type": "code",
      "source": [
        "# Standard Scaling\n",
        "scaler_standard = StandardScaler() # Initialize Standard Scaler\n",
        "\n",
        "X_train_scaled_standard = scaler_standard.fit_transform(X_train) # Fit the scaler and transform the train data\n",
        "X_test_scaled_standard = scaler_standard.transform(X_test) # Transform the test data\n",
        "\n",
        "knn_model.fit(X_train_scaled_standard, y_train) # Fitting the model\n",
        "predictions_standard = knn_model.predict(X_test_scaled_standard) # Making predictions\n",
        "\n",
        "regressionSummary(y_test, predictions_standard) # Check model performance\n"
      ],
      "metadata": {
        "colab": {
          "base_uri": "https://localhost:8080/"
        },
        "outputId": "b9868e50-def1-4a5a-cbd0-f0d4895af7c1",
        "id": "rz8jYpNVPE6k"
      },
      "execution_count": null,
      "outputs": [
        {
          "output_type": "stream",
          "name": "stdout",
          "text": [
            "\n",
            "Regression statistics\n",
            "\n",
            "               Mean Error (ME) : -0.0111\n",
            "Root Mean Squared Error (RMSE) : 0.1764\n",
            "     Mean Absolute Error (MAE) : 0.0556\n"
          ]
        }
      ]
    },
    {
      "cell_type": "code",
      "source": [
        "# Min-Max Scaling\n",
        "scaler_min_max = MinMaxScaler() # Initialize Min Max Scaler\n",
        "\n",
        "X_train_scaled_min_max = scaler_min_max.fit_transform(X_train)  # Fit the scaler and transform the train data\n",
        "X_test_scaled_min_max = scaler_min_max.transform(X_test) # Transform the test data\n",
        "\n",
        "knn_model.fit(X_train_scaled_min_max, y_train) # Fitting the model\n",
        "\n",
        "predictions_min_max = knn_model.predict(X_test_scaled_min_max) # Making predictions\n",
        "\n",
        "regressionSummary(y_test, predictions_min_max) # Check model performance\n"
      ],
      "metadata": {
        "colab": {
          "base_uri": "https://localhost:8080/"
        },
        "outputId": "fd3697a4-7f5f-436d-a27a-f343280c3b96",
        "id": "0RlWo2NGPE6k"
      },
      "execution_count": null,
      "outputs": [
        {
          "output_type": "stream",
          "name": "stdout",
          "text": [
            "\n",
            "Regression statistics\n",
            "\n",
            "               Mean Error (ME) : -0.0056\n",
            "Root Mean Squared Error (RMSE) : 0.1732\n",
            "     Mean Absolute Error (MAE) : 0.0500\n"
          ]
        }
      ]
    },
    {
      "cell_type": "code",
      "source": [
        "# Define the data for the three individuals\n",
        "# Define the DataFrame\n",
        "df = pd.DataFrame({\n",
        "    'Person': ['A', 'B', 'C'],\n",
        "    'Age': [40, 70, 42],\n",
        "    'Income': [70000, 69000, 68000]\n",
        "})\n",
        "\n",
        "df"
      ],
      "metadata": {
        "colab": {
          "base_uri": "https://localhost:8080/",
          "height": 143
        },
        "id": "bcqukniAPE6k",
        "outputId": "e55bcca5-f4da-4e9a-fee7-0e1be4b9c9f0"
      },
      "execution_count": null,
      "outputs": [
        {
          "output_type": "execute_result",
          "data": {
            "text/plain": [
              "  Person  Age  Income\n",
              "0      A   40   70000\n",
              "1      B   70   69000\n",
              "2      C   42   68000"
            ],
            "text/html": [
              "\n",
              "  <div id=\"df-dd2ed0b3-1943-4e88-a618-27eec411e941\" class=\"colab-df-container\">\n",
              "    <div>\n",
              "<style scoped>\n",
              "    .dataframe tbody tr th:only-of-type {\n",
              "        vertical-align: middle;\n",
              "    }\n",
              "\n",
              "    .dataframe tbody tr th {\n",
              "        vertical-align: top;\n",
              "    }\n",
              "\n",
              "    .dataframe thead th {\n",
              "        text-align: right;\n",
              "    }\n",
              "</style>\n",
              "<table border=\"1\" class=\"dataframe\">\n",
              "  <thead>\n",
              "    <tr style=\"text-align: right;\">\n",
              "      <th></th>\n",
              "      <th>Person</th>\n",
              "      <th>Age</th>\n",
              "      <th>Income</th>\n",
              "    </tr>\n",
              "  </thead>\n",
              "  <tbody>\n",
              "    <tr>\n",
              "      <th>0</th>\n",
              "      <td>A</td>\n",
              "      <td>40</td>\n",
              "      <td>70000</td>\n",
              "    </tr>\n",
              "    <tr>\n",
              "      <th>1</th>\n",
              "      <td>B</td>\n",
              "      <td>70</td>\n",
              "      <td>69000</td>\n",
              "    </tr>\n",
              "    <tr>\n",
              "      <th>2</th>\n",
              "      <td>C</td>\n",
              "      <td>42</td>\n",
              "      <td>68000</td>\n",
              "    </tr>\n",
              "  </tbody>\n",
              "</table>\n",
              "</div>\n",
              "    <div class=\"colab-df-buttons\">\n",
              "\n",
              "  <div class=\"colab-df-container\">\n",
              "    <button class=\"colab-df-convert\" onclick=\"convertToInteractive('df-dd2ed0b3-1943-4e88-a618-27eec411e941')\"\n",
              "            title=\"Convert this dataframe to an interactive table.\"\n",
              "            style=\"display:none;\">\n",
              "\n",
              "  <svg xmlns=\"http://www.w3.org/2000/svg\" height=\"24px\" viewBox=\"0 -960 960 960\">\n",
              "    <path d=\"M120-120v-720h720v720H120Zm60-500h600v-160H180v160Zm220 220h160v-160H400v160Zm0 220h160v-160H400v160ZM180-400h160v-160H180v160Zm440 0h160v-160H620v160ZM180-180h160v-160H180v160Zm440 0h160v-160H620v160Z\"/>\n",
              "  </svg>\n",
              "    </button>\n",
              "\n",
              "  <style>\n",
              "    .colab-df-container {\n",
              "      display:flex;\n",
              "      gap: 12px;\n",
              "    }\n",
              "\n",
              "    .colab-df-convert {\n",
              "      background-color: #E8F0FE;\n",
              "      border: none;\n",
              "      border-radius: 50%;\n",
              "      cursor: pointer;\n",
              "      display: none;\n",
              "      fill: #1967D2;\n",
              "      height: 32px;\n",
              "      padding: 0 0 0 0;\n",
              "      width: 32px;\n",
              "    }\n",
              "\n",
              "    .colab-df-convert:hover {\n",
              "      background-color: #E2EBFA;\n",
              "      box-shadow: 0px 1px 2px rgba(60, 64, 67, 0.3), 0px 1px 3px 1px rgba(60, 64, 67, 0.15);\n",
              "      fill: #174EA6;\n",
              "    }\n",
              "\n",
              "    .colab-df-buttons div {\n",
              "      margin-bottom: 4px;\n",
              "    }\n",
              "\n",
              "    [theme=dark] .colab-df-convert {\n",
              "      background-color: #3B4455;\n",
              "      fill: #D2E3FC;\n",
              "    }\n",
              "\n",
              "    [theme=dark] .colab-df-convert:hover {\n",
              "      background-color: #434B5C;\n",
              "      box-shadow: 0px 1px 3px 1px rgba(0, 0, 0, 0.15);\n",
              "      filter: drop-shadow(0px 1px 2px rgba(0, 0, 0, 0.3));\n",
              "      fill: #FFFFFF;\n",
              "    }\n",
              "  </style>\n",
              "\n",
              "    <script>\n",
              "      const buttonEl =\n",
              "        document.querySelector('#df-dd2ed0b3-1943-4e88-a618-27eec411e941 button.colab-df-convert');\n",
              "      buttonEl.style.display =\n",
              "        google.colab.kernel.accessAllowed ? 'block' : 'none';\n",
              "\n",
              "      async function convertToInteractive(key) {\n",
              "        const element = document.querySelector('#df-dd2ed0b3-1943-4e88-a618-27eec411e941');\n",
              "        const dataTable =\n",
              "          await google.colab.kernel.invokeFunction('convertToInteractive',\n",
              "                                                    [key], {});\n",
              "        if (!dataTable) return;\n",
              "\n",
              "        const docLinkHtml = 'Like what you see? Visit the ' +\n",
              "          '<a target=\"_blank\" href=https://colab.research.google.com/notebooks/data_table.ipynb>data table notebook</a>'\n",
              "          + ' to learn more about interactive tables.';\n",
              "        element.innerHTML = '';\n",
              "        dataTable['output_type'] = 'display_data';\n",
              "        await google.colab.output.renderOutput(dataTable, element);\n",
              "        const docLink = document.createElement('div');\n",
              "        docLink.innerHTML = docLinkHtml;\n",
              "        element.appendChild(docLink);\n",
              "      }\n",
              "    </script>\n",
              "  </div>\n",
              "\n",
              "\n",
              "<div id=\"df-e100c00b-2b64-4ad6-abd5-3251637121a7\">\n",
              "  <button class=\"colab-df-quickchart\" onclick=\"quickchart('df-e100c00b-2b64-4ad6-abd5-3251637121a7')\"\n",
              "            title=\"Suggest charts\"\n",
              "            style=\"display:none;\">\n",
              "\n",
              "<svg xmlns=\"http://www.w3.org/2000/svg\" height=\"24px\"viewBox=\"0 0 24 24\"\n",
              "     width=\"24px\">\n",
              "    <g>\n",
              "        <path d=\"M19 3H5c-1.1 0-2 .9-2 2v14c0 1.1.9 2 2 2h14c1.1 0 2-.9 2-2V5c0-1.1-.9-2-2-2zM9 17H7v-7h2v7zm4 0h-2V7h2v10zm4 0h-2v-4h2v4z\"/>\n",
              "    </g>\n",
              "</svg>\n",
              "  </button>\n",
              "\n",
              "<style>\n",
              "  .colab-df-quickchart {\n",
              "      --bg-color: #E8F0FE;\n",
              "      --fill-color: #1967D2;\n",
              "      --hover-bg-color: #E2EBFA;\n",
              "      --hover-fill-color: #174EA6;\n",
              "      --disabled-fill-color: #AAA;\n",
              "      --disabled-bg-color: #DDD;\n",
              "  }\n",
              "\n",
              "  [theme=dark] .colab-df-quickchart {\n",
              "      --bg-color: #3B4455;\n",
              "      --fill-color: #D2E3FC;\n",
              "      --hover-bg-color: #434B5C;\n",
              "      --hover-fill-color: #FFFFFF;\n",
              "      --disabled-bg-color: #3B4455;\n",
              "      --disabled-fill-color: #666;\n",
              "  }\n",
              "\n",
              "  .colab-df-quickchart {\n",
              "    background-color: var(--bg-color);\n",
              "    border: none;\n",
              "    border-radius: 50%;\n",
              "    cursor: pointer;\n",
              "    display: none;\n",
              "    fill: var(--fill-color);\n",
              "    height: 32px;\n",
              "    padding: 0;\n",
              "    width: 32px;\n",
              "  }\n",
              "\n",
              "  .colab-df-quickchart:hover {\n",
              "    background-color: var(--hover-bg-color);\n",
              "    box-shadow: 0 1px 2px rgba(60, 64, 67, 0.3), 0 1px 3px 1px rgba(60, 64, 67, 0.15);\n",
              "    fill: var(--button-hover-fill-color);\n",
              "  }\n",
              "\n",
              "  .colab-df-quickchart-complete:disabled,\n",
              "  .colab-df-quickchart-complete:disabled:hover {\n",
              "    background-color: var(--disabled-bg-color);\n",
              "    fill: var(--disabled-fill-color);\n",
              "    box-shadow: none;\n",
              "  }\n",
              "\n",
              "  .colab-df-spinner {\n",
              "    border: 2px solid var(--fill-color);\n",
              "    border-color: transparent;\n",
              "    border-bottom-color: var(--fill-color);\n",
              "    animation:\n",
              "      spin 1s steps(1) infinite;\n",
              "  }\n",
              "\n",
              "  @keyframes spin {\n",
              "    0% {\n",
              "      border-color: transparent;\n",
              "      border-bottom-color: var(--fill-color);\n",
              "      border-left-color: var(--fill-color);\n",
              "    }\n",
              "    20% {\n",
              "      border-color: transparent;\n",
              "      border-left-color: var(--fill-color);\n",
              "      border-top-color: var(--fill-color);\n",
              "    }\n",
              "    30% {\n",
              "      border-color: transparent;\n",
              "      border-left-color: var(--fill-color);\n",
              "      border-top-color: var(--fill-color);\n",
              "      border-right-color: var(--fill-color);\n",
              "    }\n",
              "    40% {\n",
              "      border-color: transparent;\n",
              "      border-right-color: var(--fill-color);\n",
              "      border-top-color: var(--fill-color);\n",
              "    }\n",
              "    60% {\n",
              "      border-color: transparent;\n",
              "      border-right-color: var(--fill-color);\n",
              "    }\n",
              "    80% {\n",
              "      border-color: transparent;\n",
              "      border-right-color: var(--fill-color);\n",
              "      border-bottom-color: var(--fill-color);\n",
              "    }\n",
              "    90% {\n",
              "      border-color: transparent;\n",
              "      border-bottom-color: var(--fill-color);\n",
              "    }\n",
              "  }\n",
              "</style>\n",
              "\n",
              "  <script>\n",
              "    async function quickchart(key) {\n",
              "      const quickchartButtonEl =\n",
              "        document.querySelector('#' + key + ' button');\n",
              "      quickchartButtonEl.disabled = true;  // To prevent multiple clicks.\n",
              "      quickchartButtonEl.classList.add('colab-df-spinner');\n",
              "      try {\n",
              "        const charts = await google.colab.kernel.invokeFunction(\n",
              "            'suggestCharts', [key], {});\n",
              "      } catch (error) {\n",
              "        console.error('Error during call to suggestCharts:', error);\n",
              "      }\n",
              "      quickchartButtonEl.classList.remove('colab-df-spinner');\n",
              "      quickchartButtonEl.classList.add('colab-df-quickchart-complete');\n",
              "    }\n",
              "    (() => {\n",
              "      let quickchartButtonEl =\n",
              "        document.querySelector('#df-e100c00b-2b64-4ad6-abd5-3251637121a7 button');\n",
              "      quickchartButtonEl.style.display =\n",
              "        google.colab.kernel.accessAllowed ? 'block' : 'none';\n",
              "    })();\n",
              "  </script>\n",
              "</div>\n",
              "\n",
              "  <div id=\"id_ef68ef6e-83cb-4805-ad5a-c61e7f6c2855\">\n",
              "    <style>\n",
              "      .colab-df-generate {\n",
              "        background-color: #E8F0FE;\n",
              "        border: none;\n",
              "        border-radius: 50%;\n",
              "        cursor: pointer;\n",
              "        display: none;\n",
              "        fill: #1967D2;\n",
              "        height: 32px;\n",
              "        padding: 0 0 0 0;\n",
              "        width: 32px;\n",
              "      }\n",
              "\n",
              "      .colab-df-generate:hover {\n",
              "        background-color: #E2EBFA;\n",
              "        box-shadow: 0px 1px 2px rgba(60, 64, 67, 0.3), 0px 1px 3px 1px rgba(60, 64, 67, 0.15);\n",
              "        fill: #174EA6;\n",
              "      }\n",
              "\n",
              "      [theme=dark] .colab-df-generate {\n",
              "        background-color: #3B4455;\n",
              "        fill: #D2E3FC;\n",
              "      }\n",
              "\n",
              "      [theme=dark] .colab-df-generate:hover {\n",
              "        background-color: #434B5C;\n",
              "        box-shadow: 0px 1px 3px 1px rgba(0, 0, 0, 0.15);\n",
              "        filter: drop-shadow(0px 1px 2px rgba(0, 0, 0, 0.3));\n",
              "        fill: #FFFFFF;\n",
              "      }\n",
              "    </style>\n",
              "    <button class=\"colab-df-generate\" onclick=\"generateWithVariable('df')\"\n",
              "            title=\"Generate code using this dataframe.\"\n",
              "            style=\"display:none;\">\n",
              "\n",
              "  <svg xmlns=\"http://www.w3.org/2000/svg\" height=\"24px\"viewBox=\"0 0 24 24\"\n",
              "       width=\"24px\">\n",
              "    <path d=\"M7,19H8.4L18.45,9,17,7.55,7,17.6ZM5,21V16.75L18.45,3.32a2,2,0,0,1,2.83,0l1.4,1.43a1.91,1.91,0,0,1,.58,1.4,1.91,1.91,0,0,1-.58,1.4L9.25,21ZM18.45,9,17,7.55Zm-12,3A5.31,5.31,0,0,0,4.9,8.1,5.31,5.31,0,0,0,1,6.5,5.31,5.31,0,0,0,4.9,4.9,5.31,5.31,0,0,0,6.5,1,5.31,5.31,0,0,0,8.1,4.9,5.31,5.31,0,0,0,12,6.5,5.46,5.46,0,0,0,6.5,12Z\"/>\n",
              "  </svg>\n",
              "    </button>\n",
              "    <script>\n",
              "      (() => {\n",
              "      const buttonEl =\n",
              "        document.querySelector('#id_ef68ef6e-83cb-4805-ad5a-c61e7f6c2855 button.colab-df-generate');\n",
              "      buttonEl.style.display =\n",
              "        google.colab.kernel.accessAllowed ? 'block' : 'none';\n",
              "\n",
              "      buttonEl.onclick = () => {\n",
              "        google.colab.notebook.generateWithVariable('df');\n",
              "      }\n",
              "      })();\n",
              "    </script>\n",
              "  </div>\n",
              "\n",
              "    </div>\n",
              "  </div>\n"
            ],
            "application/vnd.google.colaboratory.intrinsic+json": {
              "type": "dataframe",
              "variable_name": "df",
              "summary": "{\n  \"name\": \"df\",\n  \"rows\": 3,\n  \"fields\": [\n    {\n      \"column\": \"Person\",\n      \"properties\": {\n        \"dtype\": \"string\",\n        \"num_unique_values\": 3,\n        \"samples\": [\n          \"A\",\n          \"B\",\n          \"C\"\n        ],\n        \"semantic_type\": \"\",\n        \"description\": \"\"\n      }\n    },\n    {\n      \"column\": \"Age\",\n      \"properties\": {\n        \"dtype\": \"number\",\n        \"std\": 16,\n        \"min\": 40,\n        \"max\": 70,\n        \"num_unique_values\": 3,\n        \"samples\": [\n          40,\n          70,\n          42\n        ],\n        \"semantic_type\": \"\",\n        \"description\": \"\"\n      }\n    },\n    {\n      \"column\": \"Income\",\n      \"properties\": {\n        \"dtype\": \"number\",\n        \"std\": 1000,\n        \"min\": 68000,\n        \"max\": 70000,\n        \"num_unique_values\": 3,\n        \"samples\": [\n          70000,\n          69000,\n          68000\n        ],\n        \"semantic_type\": \"\",\n        \"description\": \"\"\n      }\n    }\n  ]\n}"
            }
          },
          "metadata": {},
          "execution_count": 67
        }
      ]
    },
    {
      "cell_type": "markdown",
      "source": [
        "## Who is more similar to A, B or C?"
      ],
      "metadata": {
        "id": "ad1YgPpJUGlf"
      }
    },
    {
      "cell_type": "code",
      "source": [
        "# Calculate Euclidean distances between A and B, and A and C\n",
        "\n",
        "# Extracting the feature values for each person\n",
        "features_a = df.loc[df['Person'] == 'A', ['Age', 'Income']].values[0]\n",
        "features_b = df.loc[df['Person'] == 'B', ['Age', 'Income']].values[0]\n",
        "features_c = df.loc[df['Person'] == 'C', ['Age', 'Income']].values[0]\n",
        "\n",
        "# Calculate distances\n",
        "distance_a_b = np.sqrt(np.sum((features_a - features_b) ** 2)).round(2)\n",
        "distance_a_c = np.sqrt(np.sum((features_a - features_c) ** 2)).round(2)\n",
        "\n",
        "(distance_a_b, distance_a_c)"
      ],
      "metadata": {
        "colab": {
          "base_uri": "https://localhost:8080/"
        },
        "id": "qje_83KoUELW",
        "outputId": "6002fffe-24d0-4e33-ed9b-74d5878adf27"
      },
      "execution_count": null,
      "outputs": [
        {
          "output_type": "execute_result",
          "data": {
            "text/plain": [
              "(1000.45, 2000.0)"
            ]
          },
          "metadata": {},
          "execution_count": 68
        }
      ]
    },
    {
      "cell_type": "code",
      "source": [
        "# Calculate Euclidean distances between A and B, and A and C after applying Min-Max scaling\n",
        "\n",
        "# Extracting Age and Income for scaling\n",
        "features = df[['Age', 'Income']]\n",
        "\n",
        "# Applying Min-Max Scaling\n",
        "min_max_scaler = MinMaxScaler()\n",
        "features_min_max_scaled = min_max_scaler.fit_transform(features)\n",
        "\n",
        "\n",
        "# Calculate distances for Min-Max scaled data\n",
        "distance_min_max_a_b = np.sqrt(np.sum((features_min_max_scaled[0] - features_min_max_scaled[1]) ** 2)).round(2)\n",
        "distance_min_max_a_c = np.sqrt(np.sum((features_min_max_scaled[0] - features_min_max_scaled[2]) ** 2)).round(2)\n",
        "\n",
        "\n",
        "(distance_min_max_a_b, distance_min_max_a_c )\n",
        "\n"
      ],
      "metadata": {
        "colab": {
          "base_uri": "https://localhost:8080/"
        },
        "id": "7jn8gifkSj5g",
        "outputId": "de689ae0-2b14-4bea-c62b-550bd549f640"
      },
      "execution_count": null,
      "outputs": [
        {
          "output_type": "execute_result",
          "data": {
            "text/plain": [
              "(1.12, 1.0)"
            ]
          },
          "metadata": {},
          "execution_count": 69
        }
      ]
    },
    {
      "cell_type": "code",
      "source": [
        "# Calculate Euclidean distances between A and B, and A and C after applying Standard Scaling\n",
        "\n",
        "# Extracting Age and Income for scaling\n",
        "features = df[['Age', 'Income']]\n",
        "\n",
        "standard_scaler = StandardScaler()\n",
        "features_standard_scaled = standard_scaler.fit_transform(features)\n",
        "\n",
        "# Calculate distances for Standard scaled data\n",
        "distance_standard_a_b = np.sqrt(np.sum((features_standard_scaled[0] - features_standard_scaled[1]) ** 2)).round(2)\n",
        "distance_standard_a_c = np.sqrt(np.sum((features_standard_scaled[0] - features_standard_scaled[2]) ** 2)).round(2)\n",
        "\n",
        "(distance_standard_a_b, distance_standard_a_c)"
      ],
      "metadata": {
        "colab": {
          "base_uri": "https://localhost:8080/"
        },
        "id": "NRmy6dXZTbgn",
        "outputId": "ba87787e-c703-4dba-994f-ed149395be28"
      },
      "execution_count": null,
      "outputs": [
        {
          "output_type": "execute_result",
          "data": {
            "text/plain": [
              "(2.51, 2.45)"
            ]
          },
          "metadata": {},
          "execution_count": 71
        }
      ]
    }
  ],
  "metadata": {
    "kernelspec": {
      "display_name": "Python 3",
      "language": "python",
      "name": "python3"
    },
    "language_info": {
      "codemirror_mode": {
        "name": "ipython",
        "version": 3
      },
      "file_extension": ".py",
      "mimetype": "text/x-python",
      "name": "python",
      "nbconvert_exporter": "python",
      "pygments_lexer": "ipython3",
      "version": "3.10.6"
    },
    "orig_nbformat": 4,
    "vscode": {
      "interpreter": {
        "hash": "94cb513ef0df7872a14d02e37d2ec8cda9c322e144e012a5867ea829d993f590"
      }
    },
    "colab": {
      "provenance": [],
      "include_colab_link": true
    }
  },
  "nbformat": 4,
  "nbformat_minor": 0
}