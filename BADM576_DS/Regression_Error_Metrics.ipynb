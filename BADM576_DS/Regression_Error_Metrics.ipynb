{
  "nbformat": 4,
  "nbformat_minor": 0,
  "metadata": {
    "colab": {
      "provenance": [],
      "include_colab_link": true
    },
    "kernelspec": {
      "name": "python3",
      "display_name": "Python 3"
    },
    "language_info": {
      "name": "python"
    }
  },
  "cells": [
    {
      "cell_type": "markdown",
      "metadata": {
        "id": "view-in-github",
        "colab_type": "text"
      },
      "source": [
        "<a href=\"https://colab.research.google.com/github/kyook17/UIUC_BADM/blob/main/BADM576_DS/Regression_Error_Metrics.ipynb\" target=\"_parent\"><img src=\"https://colab.research.google.com/assets/colab-badge.svg\" alt=\"Open In Colab\"/></a>"
      ]
    },
    {
      "cell_type": "markdown",
      "source": [
        "**Error Metrics**:\n",
        "\n",
        "- Mean Error\n",
        "- Mean Absolute Error\n",
        "- Root Mean Squared Error\n",
        "- Mean Percentage Error\n",
        "- Mean Absolute Percentage Error\n",
        "- Custom Error"
      ],
      "metadata": {
        "id": "8nYB3TWa_SKG"
      }
    },
    {
      "cell_type": "code",
      "source": [
        "import numpy as np"
      ],
      "metadata": {
        "id": "pKpP2fHYBgT8"
      },
      "execution_count": null,
      "outputs": []
    },
    {
      "cell_type": "markdown",
      "source": [
        "# **Mean Error**\n"
      ],
      "metadata": {
        "id": "xHuwS-3t_qnd"
      }
    },
    {
      "cell_type": "code",
      "source": [
        "def mean_error(predictions, actuals):\n",
        "    errors = actuals - predictions\n",
        "    me = errors.mean().round(2)\n",
        "    return me"
      ],
      "metadata": {
        "id": "ndwQ6cSG_tId"
      },
      "execution_count": null,
      "outputs": []
    },
    {
      "cell_type": "markdown",
      "source": [
        "# **Mean Absolute Error**"
      ],
      "metadata": {
        "id": "Dxt2Xn10Ad8u"
      }
    },
    {
      "cell_type": "code",
      "source": [
        "def mean_absolute_error(predictions, actuals):\n",
        "    absolute_errors = np.abs(actuals - predictions)\n",
        "    mae = absolute_errors.mean().round(2)\n",
        "    return mae\n"
      ],
      "metadata": {
        "id": "6mMSNDO-_wnt"
      },
      "execution_count": null,
      "outputs": []
    },
    {
      "cell_type": "markdown",
      "source": [
        "# **Root Mean Squared Error**"
      ],
      "metadata": {
        "id": "01HVb9P0BEgM"
      }
    },
    {
      "cell_type": "code",
      "source": [
        "def root_mean_squared_error(predictions, actuals):\n",
        "    squared_errors = (actuals - predictions) ^2\n",
        "    mse = squared_errors.mean().round(2)\n",
        "    rmse = np.sqrt(mse).round(2)\n",
        "    return rmse"
      ],
      "metadata": {
        "id": "00GZIaZUBI6t"
      },
      "execution_count": null,
      "outputs": []
    },
    {
      "cell_type": "markdown",
      "source": [
        "# **Mean Percentage Error**"
      ],
      "metadata": {
        "id": "ujIFfStWAx21"
      }
    },
    {
      "cell_type": "code",
      "source": [
        "def mean_percentage_error(predictions, actuals):\n",
        "    percentage_errors = (actuals - predictions) / actuals\n",
        "    mpe = percentage_errors.mean().round(2) * 100\n",
        "    return mpe\n"
      ],
      "metadata": {
        "id": "o0Gi14El_2jN"
      },
      "execution_count": null,
      "outputs": []
    },
    {
      "cell_type": "markdown",
      "source": [
        "# **Mean Absolute Percentage Error**"
      ],
      "metadata": {
        "id": "akqQkKAvA7f0"
      }
    },
    {
      "cell_type": "code",
      "source": [
        "def mean_absolute_percentage_error(predictions, actuals):\n",
        "    absolute_percentage_errors = np.abs((actuals - predictions) / actuals)\n",
        "    mape = absolute_percentage_errors.mean().round(2) * 100\n",
        "    return mape\n"
      ],
      "metadata": {
        "id": "mnsQ2k0C_6UN"
      },
      "execution_count": null,
      "outputs": []
    },
    {
      "cell_type": "code",
      "execution_count": null,
      "metadata": {
        "id": "4G4iuLuB-7qQ"
      },
      "outputs": [],
      "source": [
        "import numpy as np\n",
        "\n",
        "def wae(predictions, actuals):\n",
        "\n",
        "    errors = actuals - predictions\n",
        "\n",
        "    # Initialize weights: 1 for under-prediction, 2 for over-prediction\n",
        "    weights = np.where(errors > 0, 2, 1)\n",
        "\n",
        "    weighted_errors = weights * np.abs(errors)\n",
        "\n",
        "    wae = np.mean(weighted_errors).round(2)\n",
        "    return wae\n"
      ]
    },
    {
      "cell_type": "code",
      "source": [
        "import numpy as np\n",
        "\n",
        "# Sample data\n",
        "predictions = np.array([105, 90, 98, 105])\n",
        "actuals = np.array([100, 95, 100, 110])\n",
        "\n",
        "# Calculate error metrics\n",
        "me = mean_error(predictions, actuals)\n",
        "rmse = root_mean_squared_error(predictions, actuals)\n",
        "mae = mean_absolute_error(predictions, actuals)\n",
        "mpe = mean_percentage_error(predictions, actuals)\n",
        "mape = mean_absolute_percentage_error(predictions, actuals)\n",
        "wae = wae(predictions, actuals)\n",
        "\n",
        "# Display results\n",
        "print(f\"Mean Error (ME): {me}\")\n",
        "print(f\"Root Mean Squared Error (RMSE): {rmse}\")\n",
        "print(f\"Mean Absolute Error (MAE): {mae}\")\n",
        "print(f\"Mean Percentage Error (MPE): {mpe}%\")\n",
        "print(f\"Mean Absolute Percentage Error (MAPE): {mape}%\")\n",
        "print(f\"Weighted Absolute Error (WAE): {wae}\")"
      ],
      "metadata": {
        "colab": {
          "base_uri": "https://localhost:8080/"
        },
        "id": "elCBKW5n_DqX",
        "outputId": "c60623df-3639-4306-97a1-243e6672c9c4"
      },
      "execution_count": null,
      "outputs": [
        {
          "output_type": "stream",
          "name": "stdout",
          "text": [
            "Mean Error (ME): 1.75\n",
            "Root Mean Squared Error (RMSE): 1.32\n",
            "Mean Absolute Error (MAE): 4.25\n",
            "Mean Percentage Error (MPE): 2.0%\n",
            "Mean Absolute Percentage Error (MAPE): 4.0%\n",
            "Weighted Absolute Error (WAE): 7.25\n"
          ]
        }
      ]
    },
    {
      "cell_type": "code",
      "source": [],
      "metadata": {
        "id": "2Kq4ob_vCD7j"
      },
      "execution_count": null,
      "outputs": []
    }
  ]
}